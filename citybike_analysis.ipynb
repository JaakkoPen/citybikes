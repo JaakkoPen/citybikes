{
 "cells": [
  {
   "cell_type": "code",
   "execution_count": 1,
   "id": "0e7ad5e6",
   "metadata": {},
   "outputs": [
    {
     "data": {
      "text/html": [
       "<div>\n",
       "<style scoped>\n",
       "    .dataframe tbody tr th:only-of-type {\n",
       "        vertical-align: middle;\n",
       "    }\n",
       "\n",
       "    .dataframe tbody tr th {\n",
       "        vertical-align: top;\n",
       "    }\n",
       "\n",
       "    .dataframe thead th {\n",
       "        text-align: right;\n",
       "    }\n",
       "</style>\n",
       "<table border=\"1\" class=\"dataframe\">\n",
       "  <thead>\n",
       "    <tr style=\"text-align: right;\">\n",
       "      <th></th>\n",
       "      <th>Departure</th>\n",
       "      <th>Return</th>\n",
       "      <th>Departure station id</th>\n",
       "      <th>Departure station name</th>\n",
       "      <th>Return station id</th>\n",
       "      <th>Return station name</th>\n",
       "      <th>Covered distance (m)</th>\n",
       "      <th>Duration (sec.)</th>\n",
       "    </tr>\n",
       "  </thead>\n",
       "  <tbody>\n",
       "    <tr>\n",
       "      <th>0</th>\n",
       "      <td>2023-08-31T23:59:55</td>\n",
       "      <td>2023-09-01T00:03:54</td>\n",
       "      <td>527</td>\n",
       "      <td>Otsolahti</td>\n",
       "      <td>511</td>\n",
       "      <td>Sateentie</td>\n",
       "      <td>835.0</td>\n",
       "      <td>235</td>\n",
       "    </tr>\n",
       "    <tr>\n",
       "      <th>1</th>\n",
       "      <td>2023-08-31T23:58:49</td>\n",
       "      <td>2023-09-01T00:10:56</td>\n",
       "      <td>127</td>\n",
       "      <td>Teurastamo</td>\n",
       "      <td>293</td>\n",
       "      <td>Korkeasaari</td>\n",
       "      <td>2393.0</td>\n",
       "      <td>722</td>\n",
       "    </tr>\n",
       "    <tr>\n",
       "      <th>2</th>\n",
       "      <td>2023-08-31T23:58:26</td>\n",
       "      <td>2023-09-01T00:15:01</td>\n",
       "      <td>42</td>\n",
       "      <td>Haapaniemenkatu</td>\n",
       "      <td>37</td>\n",
       "      <td>Töölönkatu</td>\n",
       "      <td>657.0</td>\n",
       "      <td>991</td>\n",
       "    </tr>\n",
       "    <tr>\n",
       "      <th>3</th>\n",
       "      <td>2023-08-31T23:58:16</td>\n",
       "      <td>2023-09-01T00:09:55</td>\n",
       "      <td>121</td>\n",
       "      <td>Vilhonvuorenkatu</td>\n",
       "      <td>40</td>\n",
       "      <td>Hakaniemi (M)</td>\n",
       "      <td>1280.0</td>\n",
       "      <td>695</td>\n",
       "    </tr>\n",
       "    <tr>\n",
       "      <th>4</th>\n",
       "      <td>2023-08-31T23:57:52</td>\n",
       "      <td>2023-09-01T00:06:48</td>\n",
       "      <td>41</td>\n",
       "      <td>Ympyrätalo</td>\n",
       "      <td>117</td>\n",
       "      <td>Brahen puistikko</td>\n",
       "      <td>1249.0</td>\n",
       "      <td>533</td>\n",
       "    </tr>\n",
       "  </tbody>\n",
       "</table>\n",
       "</div>"
      ],
      "text/plain": [
       "             Departure               Return  Departure station id  \\\n",
       "0  2023-08-31T23:59:55  2023-09-01T00:03:54                   527   \n",
       "1  2023-08-31T23:58:49  2023-09-01T00:10:56                   127   \n",
       "2  2023-08-31T23:58:26  2023-09-01T00:15:01                    42   \n",
       "3  2023-08-31T23:58:16  2023-09-01T00:09:55                   121   \n",
       "4  2023-08-31T23:57:52  2023-09-01T00:06:48                    41   \n",
       "\n",
       "  Departure station name  Return station id Return station name  \\\n",
       "0              Otsolahti                511           Sateentie   \n",
       "1             Teurastamo                293         Korkeasaari   \n",
       "2        Haapaniemenkatu                 37          Töölönkatu   \n",
       "3       Vilhonvuorenkatu                 40       Hakaniemi (M)   \n",
       "4             Ympyrätalo                117    Brahen puistikko   \n",
       "\n",
       "   Covered distance (m)  Duration (sec.)  \n",
       "0                 835.0              235  \n",
       "1                2393.0              722  \n",
       "2                 657.0              991  \n",
       "3                1280.0              695  \n",
       "4                1249.0              533  "
      ]
     },
     "execution_count": 1,
     "metadata": {},
     "output_type": "execute_result"
    }
   ],
   "source": [
    "import pandas as pd\n",
    "\n",
    "# Read the data (downloaded from dev.hsl.fi/citybikes/od-trips-2023/od-trips-2023.zip)\n",
    "data = pd.read_csv('/Users/jaakkopentik/downloads/od-trips-2023/2023-06.csv') \n",
    "\n",
    "# Print the first few rows of the dataset\n",
    "data.head()"
   ]
  },
  {
   "cell_type": "code",
   "execution_count": 2,
   "id": "1b85e7ae",
   "metadata": {},
   "outputs": [
    {
     "data": {
      "text/plain": [
       "(426020, 8)"
      ]
     },
     "execution_count": 2,
     "metadata": {},
     "output_type": "execute_result"
    }
   ],
   "source": [
    "# Print the size of data to see how large it is\n",
    "data.shape"
   ]
  },
  {
   "cell_type": "code",
   "execution_count": 3,
   "id": "2a9dbf38",
   "metadata": {},
   "outputs": [
    {
     "data": {
      "text/plain": [
       "Itämerentori             8595\n",
       "Pasilan asema            5340\n",
       "Töölönlahdenkatu         4935\n",
       "Rautatientori / länsi    4521\n",
       "Rautatientori / itä      4499\n",
       "                         ... \n",
       "Töyrynummentie             55\n",
       "Lettopolku                 54\n",
       "Jakomäentie                50\n",
       "Sateenkaarentie            37\n",
       "Porvarintie                36\n",
       "Name: Departure station name, Length: 457, dtype: int64"
      ]
     },
     "execution_count": 3,
     "metadata": {},
     "output_type": "execute_result"
    }
   ],
   "source": [
    "# Print the most used departure stations\n",
    "data['Departure station name'].value_counts() "
   ]
  },
  {
   "cell_type": "code",
   "execution_count": 4,
   "id": "b0112838",
   "metadata": {},
   "outputs": [
    {
     "data": {
      "text/plain": [
       "Itämerentori             8551\n",
       "Töölönlahdenkatu         4882\n",
       "Kalasatama (M)           4599\n",
       "Rautatientori / länsi    4557\n",
       "Rautatientori / itä      4533\n",
       "                         ... \n",
       "Jakomäentie                47\n",
       "Porvarintie                40\n",
       "Töyrynummentie             34\n",
       "Sateenkaarentie            31\n",
       "Workshop Helsinki          21\n",
       "Name: Return station name, Length: 458, dtype: int64"
      ]
     },
     "execution_count": 4,
     "metadata": {},
     "output_type": "execute_result"
    }
   ],
   "source": [
    "# Print the most used return stations\n",
    "data['Return station name'].value_counts() "
   ]
  },
  {
   "cell_type": "code",
   "execution_count": 5,
   "id": "883e95d4",
   "metadata": {},
   "outputs": [
    {
     "data": {
      "text/plain": [
       "Departure station name                 Return station name                  \n",
       "Jämeräntaival                          Aalto-yliopisto (M), Korkeakouluaukio    1155\n",
       "Aalto-yliopisto (M), Korkeakouluaukio  Jämeräntaival                            1119\n",
       "Arielinkatu                            Sompasaari                                742\n",
       "Leppävaaranaukio                       Kössi Koskisen aukio                      683\n",
       "Kössi Koskisen aukio                   Leppävaaranaukio                          657\n",
       "                                                                                ... \n",
       "Orpaanporras                           Pukinmäen liikuntapuisto                    1\n",
       "                                       Puotinkylän kartano                         1\n",
       "                                       Sinkilätie                                  1\n",
       "                                       Sumukuja                                    1\n",
       "Auringonkatu                           Hakalehto                                   1\n",
       "Length: 41354, dtype: int64"
      ]
     },
     "execution_count": 5,
     "metadata": {},
     "output_type": "execute_result"
    }
   ],
   "source": [
    "# Print the most common trips between two stations\n",
    "data.groupby(['Departure station name', 'Return station name']).size().sort_values(ascending=False)"
   ]
  },
  {
   "cell_type": "code",
   "execution_count": 6,
   "id": "65f93808",
   "metadata": {},
   "outputs": [
    {
     "data": {
      "text/plain": [
       "16.12"
      ]
     },
     "execution_count": 6,
     "metadata": {},
     "output_type": "execute_result"
    }
   ],
   "source": [
    "# Print mean duration of all trips (in minutes)\n",
    "round(data['Duration (sec.)'].mean() / 60, 2)"
   ]
  }
 ],
 "metadata": {
  "kernelspec": {
   "display_name": "Python 3 (ipykernel)",
   "language": "python",
   "name": "python3"
  },
  "language_info": {
   "codemirror_mode": {
    "name": "ipython",
    "version": 3
   },
   "file_extension": ".py",
   "mimetype": "text/x-python",
   "name": "python",
   "nbconvert_exporter": "python",
   "pygments_lexer": "ipython3",
   "version": "3.11.4"
  }
 },
 "nbformat": 4,
 "nbformat_minor": 5
}
