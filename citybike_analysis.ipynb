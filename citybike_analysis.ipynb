{
 "cells": [
  {
   "cell_type": "code",
   "execution_count": 24,
   "id": "0e7ad5e6",
   "metadata": {},
   "outputs": [
    {
     "data": {
      "text/html": [
       "<div>\n",
       "<style scoped>\n",
       "    .dataframe tbody tr th:only-of-type {\n",
       "        vertical-align: middle;\n",
       "    }\n",
       "\n",
       "    .dataframe tbody tr th {\n",
       "        vertical-align: top;\n",
       "    }\n",
       "\n",
       "    .dataframe thead th {\n",
       "        text-align: right;\n",
       "    }\n",
       "</style>\n",
       "<table border=\"1\" class=\"dataframe\">\n",
       "  <thead>\n",
       "    <tr style=\"text-align: right;\">\n",
       "      <th></th>\n",
       "      <th>Departure</th>\n",
       "      <th>Return</th>\n",
       "      <th>Departure station id</th>\n",
       "      <th>Departure station name</th>\n",
       "      <th>Return station id</th>\n",
       "      <th>Return station name</th>\n",
       "      <th>Covered distance (m)</th>\n",
       "      <th>Duration (sec.)</th>\n",
       "    </tr>\n",
       "  </thead>\n",
       "  <tbody>\n",
       "    <tr>\n",
       "      <th>0</th>\n",
       "      <td>2021-08-31T23:58:12</td>\n",
       "      <td>2021-09-01T00:12:10</td>\n",
       "      <td>309</td>\n",
       "      <td>Kaivonkatsojanpuisto</td>\n",
       "      <td>312</td>\n",
       "      <td>Meri-Rastilan tori</td>\n",
       "      <td>1245.0</td>\n",
       "      <td>834</td>\n",
       "    </tr>\n",
       "    <tr>\n",
       "      <th>1</th>\n",
       "      <td>2021-08-31T23:57:44</td>\n",
       "      <td>2021-09-01T00:03:42</td>\n",
       "      <td>64</td>\n",
       "      <td>Tyynenmerenkatu</td>\n",
       "      <td>28</td>\n",
       "      <td>Lastenlehto</td>\n",
       "      <td>1219.0</td>\n",
       "      <td>359</td>\n",
       "    </tr>\n",
       "    <tr>\n",
       "      <th>2</th>\n",
       "      <td>2021-08-31T23:57:35</td>\n",
       "      <td>2021-09-01T00:23:53</td>\n",
       "      <td>336</td>\n",
       "      <td>Kivikonlaita</td>\n",
       "      <td>266</td>\n",
       "      <td>Siilitie 13</td>\n",
       "      <td>2407.0</td>\n",
       "      <td>1574</td>\n",
       "    </tr>\n",
       "    <tr>\n",
       "      <th>3</th>\n",
       "      <td>2021-08-31T23:56:35</td>\n",
       "      <td>2021-09-01T00:00:26</td>\n",
       "      <td>34</td>\n",
       "      <td>Kansallismuseo</td>\n",
       "      <td>38</td>\n",
       "      <td>Töölöntori</td>\n",
       "      <td>759.0</td>\n",
       "      <td>227</td>\n",
       "    </tr>\n",
       "    <tr>\n",
       "      <th>4</th>\n",
       "      <td>2021-08-31T23:56:25</td>\n",
       "      <td>2021-09-01T00:23:16</td>\n",
       "      <td>277</td>\n",
       "      <td>Marjaniemi</td>\n",
       "      <td>239</td>\n",
       "      <td>Viikin tiedepuisto</td>\n",
       "      <td>6032.0</td>\n",
       "      <td>1610</td>\n",
       "    </tr>\n",
       "  </tbody>\n",
       "</table>\n",
       "</div>"
      ],
      "text/plain": [
       "             Departure               Return  Departure station id  \\\n",
       "0  2021-08-31T23:58:12  2021-09-01T00:12:10                   309   \n",
       "1  2021-08-31T23:57:44  2021-09-01T00:03:42                    64   \n",
       "2  2021-08-31T23:57:35  2021-09-01T00:23:53                   336   \n",
       "3  2021-08-31T23:56:35  2021-09-01T00:00:26                    34   \n",
       "4  2021-08-31T23:56:25  2021-09-01T00:23:16                   277   \n",
       "\n",
       "  Departure station name  Return station id Return station name  \\\n",
       "0   Kaivonkatsojanpuisto                312  Meri-Rastilan tori   \n",
       "1        Tyynenmerenkatu                 28         Lastenlehto   \n",
       "2           Kivikonlaita                266         Siilitie 13   \n",
       "3         Kansallismuseo                 38          Töölöntori   \n",
       "4             Marjaniemi                239  Viikin tiedepuisto   \n",
       "\n",
       "   Covered distance (m)  Duration (sec.)  \n",
       "0                1245.0              834  \n",
       "1                1219.0              359  \n",
       "2                2407.0             1574  \n",
       "3                 759.0              227  \n",
       "4                6032.0             1610  "
      ]
     },
     "execution_count": 24,
     "metadata": {},
     "output_type": "execute_result"
    }
   ],
   "source": [
    "import pandas as pd\n",
    "\n",
    "# Read the data (downloaded from dev.hsl.fi/citybikes/od-trips-2021/od-trips-2021.zip)\n",
    "data = pd.read_csv('/Users/jaakkopentik/downloads/od-trips-2021/2021-08.csv') \n",
    "\n",
    "# Print the first few rows of the dataset\n",
    "data.head()"
   ]
  },
  {
   "cell_type": "code",
   "execution_count": 25,
   "id": "1b85e7ae",
   "metadata": {},
   "outputs": [
    {
     "data": {
      "text/plain": [
       "(435784, 8)"
      ]
     },
     "execution_count": 25,
     "metadata": {},
     "output_type": "execute_result"
    }
   ],
   "source": [
    "# Print the size of data to see how large it is\n",
    "data.shape"
   ]
  },
  {
   "cell_type": "code",
   "execution_count": 8,
   "id": "2a9dbf38",
   "metadata": {},
   "outputs": [
    {
     "data": {
      "text/plain": [
       "Itämerentori               7258\n",
       "Pasilan asema              5961\n",
       "Töölönlahdenkatu           5642\n",
       "Kalasatama (M)             5129\n",
       "Ympyrätalo                 5050\n",
       "                           ... \n",
       "Kalannintie                  70\n",
       "Puistolantori                70\n",
       "Porvarintie                  49\n",
       "Workshop Helsinki             5\n",
       " Relay Box test station       2\n",
       "Name: Departure station name, Length: 459, dtype: int64"
      ]
     },
     "execution_count": 8,
     "metadata": {},
     "output_type": "execute_result"
    }
   ],
   "source": [
    "# Print the most used departure stations\n",
    "data['Departure station name'].value_counts() "
   ]
  },
  {
   "cell_type": "code",
   "execution_count": 9,
   "id": "b0112838",
   "metadata": {},
   "outputs": [
    {
     "data": {
      "text/plain": [
       "Itämerentori               7241\n",
       "Töölönlahdenkatu           5677\n",
       "Kalasatama (M)             5347\n",
       "Ympyrätalo                 5033\n",
       "Pasilan asema              4694\n",
       "                           ... \n",
       "Kalannintie                  68\n",
       "Sallatunturintie             62\n",
       "Porvarintie                  57\n",
       "Workshop Helsinki            17\n",
       " Relay Box test station       2\n",
       "Name: Return station name, Length: 459, dtype: int64"
      ]
     },
     "execution_count": 9,
     "metadata": {},
     "output_type": "execute_result"
    }
   ],
   "source": [
    "# Print the most used return stations\n",
    "data['Return station name'].value_counts() "
   ]
  },
  {
   "cell_type": "code",
   "execution_count": 18,
   "id": "883e95d4",
   "metadata": {},
   "outputs": [
    {
     "data": {
      "text/plain": [
       "Departure station name                 Return station name                  \n",
       "Aalto-yliopisto (M), Korkeakouluaukio  Jämeräntaival                            1487\n",
       "Jämeräntaival                          Aalto-yliopisto (M), Korkeakouluaukio    1423\n",
       "Tyynenmerenkatu                        Itämerentori                              548\n",
       "Itämerentori                           Tyynenmerenkatu                           542\n",
       "Ratsutori                              Kirjurinkuja                              540\n",
       "                                                                                ... \n",
       "Oravannahkatori                        Orionintie                                  1\n",
       "Huopalahdentie                         Pohjolanaukio                               1\n",
       "Kurkimäki                              Karviaistie                                 1\n",
       "Oravannahkatori                        Mäkkylän asema                              1\n",
       " Relay Box test station                Ooppera                                     1\n",
       "Length: 42151, dtype: int64"
      ]
     },
     "execution_count": 18,
     "metadata": {},
     "output_type": "execute_result"
    }
   ],
   "source": [
    "# Print the most common trips between two stations\n",
    "data.groupby(['Departure station name', 'Return station name']).size().sort_values(ascending=False)"
   ]
  }
 ],
 "metadata": {
  "kernelspec": {
   "display_name": "Python 3 (ipykernel)",
   "language": "python",
   "name": "python3"
  },
  "language_info": {
   "codemirror_mode": {
    "name": "ipython",
    "version": 3
   },
   "file_extension": ".py",
   "mimetype": "text/x-python",
   "name": "python",
   "nbconvert_exporter": "python",
   "pygments_lexer": "ipython3",
   "version": "3.11.4"
  }
 },
 "nbformat": 4,
 "nbformat_minor": 5
}
